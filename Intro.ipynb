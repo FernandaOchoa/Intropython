{
 "cells": [
  {
   "cell_type": "markdown",
   "metadata": {},
   "source": [
    "## Variables\n",
    "Las variables se definen: \n",
    "* tipo String /Implícito\n",
    "* valor\n",
    "* nombre 'msg'"
   ]
  },
  {
   "cell_type": "code",
   "execution_count": 1,
   "metadata": {},
   "outputs": [
    {
     "name": "stdout",
     "output_type": "stream",
     "text": [
      "Hola Explorers!\n"
     ]
    }
   ],
   "source": [
    "print('Hola Explorers!')"
   ]
  },
  {
   "cell_type": "code",
   "execution_count": 2,
   "metadata": {},
   "outputs": [
    {
     "name": "stdout",
     "output_type": "stream",
     "text": [
      "Hola Explorers!\n"
     ]
    }
   ],
   "source": [
    "# Hola con una variable\n",
    "msg = 'Hola Explorers!'\n",
    "print(msg)"
   ]
  },
  {
   "cell_type": "markdown",
   "metadata": {},
   "source": [
    "## Programando Hotcakes"
   ]
  },
  {
   "cell_type": "code",
   "execution_count": 3,
   "metadata": {},
   "outputs": [],
   "source": [
    "titulo = 'Programando hotcakes'\n",
    "\n",
    "huevo = 3\n",
    "leche = 1.5\n",
    "mantequilla = 0.045\n",
    "harina = 3\n",
    "cditaVainilla = 0.015\n",
    "\n",
    "# Asginamos los espacios en la memoria del programa para nuestros ingredientes"
   ]
  },
  {
   "cell_type": "code",
   "execution_count": 4,
   "metadata": {},
   "outputs": [
    {
     "name": "stdout",
     "output_type": "stream",
     "text": [
      "1.5\n"
     ]
    }
   ],
   "source": [
    "print(leche)"
   ]
  },
  {
   "cell_type": "code",
   "execution_count": 5,
   "metadata": {},
   "outputs": [
    {
     "name": "stdout",
     "output_type": "stream",
     "text": [
      "Cantidad de leche: 1.5\n"
     ]
    }
   ],
   "source": [
    "print('Cantidad de leche: '+str(leche)) "
   ]
  },
  {
   "cell_type": "code",
   "execution_count": 7,
   "metadata": {},
   "outputs": [
    {
     "name": "stdout",
     "output_type": "stream",
     "text": [
      "Cantidad de leche: 1.5 Cantidad de huevo: 3\n"
     ]
    }
   ],
   "source": [
    "print('Cantidad de leche: '+str(leche) + ' Cantidad de huevo: '+str(huevo)) "
   ]
  },
  {
   "cell_type": "code",
   "execution_count": 8,
   "metadata": {},
   "outputs": [
    {
     "name": "stdout",
     "output_type": "stream",
     "text": [
      "Cantidad de leche: 1.5\n",
      "Cantidad de huevo: 3\n"
     ]
    }
   ],
   "source": [
    "print('Cantidad de leche: '+str(leche) + '\\nCantidad de huevo: '+str(huevo)) "
   ]
  },
  {
   "cell_type": "code",
   "execution_count": 9,
   "metadata": {},
   "outputs": [
    {
     "name": "stdout",
     "output_type": "stream",
     "text": [
      "7.56\n"
     ]
    }
   ],
   "source": [
    "#Mezclamos los ingredientes\n",
    "\n",
    "mezcla = huevo + leche + harina + mantequilla + cditaVainilla\n",
    "print(mezcla)"
   ]
  },
  {
   "cell_type": "code",
   "execution_count": 15,
   "metadata": {},
   "outputs": [
    {
     "name": "stdout",
     "output_type": "stream",
     "text": [
      "Revisa tus ingredientes\n"
     ]
    }
   ],
   "source": [
    "# Reglas - Condiciones\n",
    "\n",
    "# huevo = 3\n",
    "# leche = 1.5\n",
    "# mantequilla = 0.045\n",
    "# harina = 3\n",
    "# cditaVainilla = 0.015\n",
    "\n",
    "if (huevo == 2):\n",
    "    print('La cantidad de huevo es correcta')\n",
    "elif (leche == 3):\n",
    "    print('La cantidad de leche es correcta')\n",
    "elif (mantequilla == 1):\n",
    "    print('La cantidad de mantequilla es correcta')\n",
    "else:\n",
    "    print('Revisa tus ingredientes')\n"
   ]
  },
  {
   "cell_type": "code",
   "execution_count": 16,
   "metadata": {},
   "outputs": [
    {
     "name": "stdout",
     "output_type": "stream",
     "text": [
      "La mezcla alcanzo para 2.52 hotcakes por persona\n"
     ]
    }
   ],
   "source": [
    "# Repartirlos\n",
    "\n",
    "porcion = mezcla / 3\n",
    "print('La mezcla alcanzo para '+str(porcion)+ ' hotcakes por persona')"
   ]
  },
  {
   "cell_type": "markdown",
   "metadata": {},
   "source": [
    "## Cadenas\n",
    "Serie de caracteres, entre comillas dobles \"\" o simples ''"
   ]
  },
  {
   "cell_type": "code",
   "execution_count": 17,
   "metadata": {},
   "outputs": [
    {
     "name": "stdout",
     "output_type": "stream",
     "text": [
      "Ada Lovelace\n"
     ]
    }
   ],
   "source": [
    "#String\n",
    "name = 'Ada Lovelace'\n",
    "print(name.title())"
   ]
  },
  {
   "cell_type": "code",
   "execution_count": 18,
   "metadata": {},
   "outputs": [
    {
     "name": "stdout",
     "output_type": "stream",
     "text": [
      "ADA LOVELACE\n"
     ]
    }
   ],
   "source": [
    "print(name.upper())\n",
    "#Mayusculas"
   ]
  },
  {
   "cell_type": "code",
   "execution_count": 19,
   "metadata": {},
   "outputs": [
    {
     "name": "stdout",
     "output_type": "stream",
     "text": [
      "ada lovelace\n"
     ]
    }
   ],
   "source": [
    "print(name.lower())\n",
    "#Minusculas"
   ]
  },
  {
   "cell_type": "code",
   "execution_count": 21,
   "metadata": {},
   "outputs": [
    {
     "name": "stdout",
     "output_type": "stream",
     "text": [
      "True\n",
      "ada lovelace\n"
     ]
    }
   ],
   "source": [
    "name = name.lower()\n",
    "print(name.islower())\n",
    "print(name)"
   ]
  },
  {
   "cell_type": "code",
   "execution_count": 22,
   "metadata": {},
   "outputs": [
    {
     "name": "stdout",
     "output_type": "stream",
     "text": [
      "ada                 lovelace   \n"
     ]
    }
   ],
   "source": [
    "first_name = 'ada'\n",
    "last_name = '                lovelace   '\n",
    "print(first_name + \" \" +last_name)"
   ]
  },
  {
   "cell_type": "code",
   "execution_count": 23,
   "metadata": {},
   "outputs": [],
   "source": [
    "#Quitar todos los espacios\n",
    "last_name = last_name.strip()"
   ]
  },
  {
   "cell_type": "code",
   "execution_count": 24,
   "metadata": {},
   "outputs": [
    {
     "name": "stdout",
     "output_type": "stream",
     "text": [
      "lovelace\n"
     ]
    }
   ],
   "source": [
    "print(last_name)"
   ]
  },
  {
   "cell_type": "code",
   "execution_count": 25,
   "metadata": {},
   "outputs": [
    {
     "name": "stdout",
     "output_type": "stream",
     "text": [
      "lovelace   \n"
     ]
    }
   ],
   "source": [
    "last_name = '                lovelace   '\n",
    "last_name = last_name.lstrip()\n",
    "print(last_name)\n",
    "\n",
    "#elimina espacios al inicio"
   ]
  },
  {
   "cell_type": "code",
   "execution_count": 26,
   "metadata": {},
   "outputs": [
    {
     "name": "stdout",
     "output_type": "stream",
     "text": [
      "lovelace\n"
     ]
    }
   ],
   "source": [
    "last_name = last_name.rstrip()\n",
    "print(last_name)"
   ]
  },
  {
   "cell_type": "code",
   "execution_count": 27,
   "metadata": {},
   "outputs": [
    {
     "name": "stdout",
     "output_type": "stream",
     "text": [
      "Fer Ochoa\n"
     ]
    }
   ],
   "source": [
    "# Usando variables en cadenas\n",
    "\n",
    "nombre = 'Fer'\n",
    "apellido = 'Ochoa'\n",
    "nombre_completo = f'{nombre} {apellido}'\n",
    "print(nombre_completo)"
   ]
  },
  {
   "cell_type": "markdown",
   "metadata": {},
   "source": [
    "## Listas\n",
    "Almacena una serie de elementos"
   ]
  },
  {
   "cell_type": "code",
   "execution_count": 34,
   "metadata": {},
   "outputs": [],
   "source": [
    "ingredientes = ['huevo', 'harina', 'leche']"
   ]
  },
  {
   "cell_type": "code",
   "execution_count": 29,
   "metadata": {},
   "outputs": [
    {
     "data": {
      "text/plain": [
       "'huevo'"
      ]
     },
     "execution_count": 29,
     "metadata": {},
     "output_type": "execute_result"
    }
   ],
   "source": [
    "#Primer elemento\n",
    "ingredientes[0]"
   ]
  },
  {
   "cell_type": "code",
   "execution_count": 30,
   "metadata": {},
   "outputs": [
    {
     "data": {
      "text/plain": [
       "'leche'"
      ]
     },
     "execution_count": 30,
     "metadata": {},
     "output_type": "execute_result"
    }
   ],
   "source": [
    "#Ultimo elemento\n",
    "ingredientes[-1]"
   ]
  },
  {
   "cell_type": "code",
   "execution_count": 35,
   "metadata": {},
   "outputs": [
    {
     "name": "stdout",
     "output_type": "stream",
     "text": [
      "['huevo', 'harina', 'leche', 'mantequilla']\n"
     ]
    }
   ],
   "source": [
    "# Append()\n",
    "ingredientes.append('mantequilla')\n",
    "print(ingredientes)"
   ]
  },
  {
   "cell_type": "code",
   "execution_count": 37,
   "metadata": {},
   "outputs": [
    {
     "name": "stdout",
     "output_type": "stream",
     "text": [
      "['huevo', 'harina', 'vainilla', 'vainilla', 'leche', 'mantequilla']\n"
     ]
    }
   ],
   "source": [
    "# Insert\n",
    "ingredientes.insert(2,'vainilla')\n",
    "print(ingredientes)"
   ]
  },
  {
   "cell_type": "code",
   "execution_count": 38,
   "metadata": {},
   "outputs": [
    {
     "name": "stdout",
     "output_type": "stream",
     "text": [
      "['huevo', 'harina', 'vainilla', 'leche', 'mantequilla']\n"
     ]
    }
   ],
   "source": [
    "# Pop\n",
    "ingredientes.pop(3)\n",
    "print(ingredientes)"
   ]
  },
  {
   "cell_type": "code",
   "execution_count": 39,
   "metadata": {},
   "outputs": [
    {
     "name": "stdout",
     "output_type": "stream",
     "text": [
      "['huevo', 'vainilla', 'leche', 'mantequilla']\n"
     ]
    }
   ],
   "source": [
    "# Remove\n",
    "ingredientes.remove('harina')\n",
    "print(ingredientes)"
   ]
  },
  {
   "cell_type": "code",
   "execution_count": 40,
   "metadata": {},
   "outputs": [
    {
     "name": "stdout",
     "output_type": "stream",
     "text": [
      "['huevo', 'leche', 'mantequilla', 'vainilla']\n"
     ]
    }
   ],
   "source": [
    "# Sort A-Z\n",
    "ingredientes.sort()\n",
    "print(ingredientes)"
   ]
  },
  {
   "cell_type": "code",
   "execution_count": 41,
   "metadata": {},
   "outputs": [
    {
     "name": "stdout",
     "output_type": "stream",
     "text": [
      "['vainilla', 'mantequilla', 'leche', 'huevo']\n"
     ]
    }
   ],
   "source": [
    "# Reverse Z-A\n",
    "ingredientes.reverse()\n",
    "print(ingredientes)"
   ]
  },
  {
   "cell_type": "code",
   "execution_count": 42,
   "metadata": {},
   "outputs": [
    {
     "data": {
      "text/plain": [
       "4"
      ]
     },
     "execution_count": 42,
     "metadata": {},
     "output_type": "execute_result"
    }
   ],
   "source": [
    "# Longitud\n",
    "len(ingredientes)"
   ]
  },
  {
   "cell_type": "code",
   "execution_count": 43,
   "metadata": {},
   "outputs": [
    {
     "name": "stdout",
     "output_type": "stream",
     "text": [
      "huevo\n"
     ]
    }
   ],
   "source": [
    "print(ingredientes[-1])"
   ]
  },
  {
   "cell_type": "code",
   "execution_count": 44,
   "metadata": {},
   "outputs": [
    {
     "name": "stdout",
     "output_type": "stream",
     "text": [
      "['vainilla', 'mantequilla']\n"
     ]
    }
   ],
   "source": [
    "# Slicing\n",
    "primeros_dos = ingredientes[:2]\n",
    "print(primeros_dos)"
   ]
  },
  {
   "cell_type": "code",
   "execution_count": 45,
   "metadata": {},
   "outputs": [
    {
     "name": "stdout",
     "output_type": "stream",
     "text": [
      "['vainilla', 'mantequilla', 'leche', 'huevo']\n"
     ]
    }
   ],
   "source": [
    "#Copiamos una lista\n",
    "copy_list = ingredientes[:]\n",
    "print(copy_list)"
   ]
  },
  {
   "cell_type": "markdown",
   "metadata": {},
   "source": [
    "## Tuplas\n",
    "Las tuplas son similares a las listas, pero los elementos de una tupla no se pueden modificar."
   ]
  },
  {
   "cell_type": "code",
   "execution_count": 46,
   "metadata": {},
   "outputs": [
    {
     "name": "stdout",
     "output_type": "stream",
     "text": [
      "1080\n",
      "720\n"
     ]
    }
   ],
   "source": [
    "dimensiones = (1080,720)\n",
    "print(dimensiones[0])\n",
    "print(dimensiones[1])"
   ]
  },
  {
   "cell_type": "code",
   "execution_count": 47,
   "metadata": {},
   "outputs": [
    {
     "ename": "TypeError",
     "evalue": "'tuple' object does not support item assignment",
     "output_type": "error",
     "traceback": [
      "\u001b[1;31m---------------------------------------------------------------------------\u001b[0m",
      "\u001b[1;31mTypeError\u001b[0m                                 Traceback (most recent call last)",
      "\u001b[1;32m<ipython-input-47-1b601d707074>\u001b[0m in \u001b[0;36m<module>\u001b[1;34m\u001b[0m\n\u001b[1;32m----> 1\u001b[1;33m \u001b[0mdimensiones\u001b[0m\u001b[1;33m[\u001b[0m\u001b[1;36m1\u001b[0m\u001b[1;33m]\u001b[0m \u001b[1;33m=\u001b[0m \u001b[1;36m1080\u001b[0m\u001b[1;33m\u001b[0m\u001b[1;33m\u001b[0m\u001b[0m\n\u001b[0m",
      "\u001b[1;31mTypeError\u001b[0m: 'tuple' object does not support item assignment"
     ]
    }
   ],
   "source": [
    "dimensiones[1] = 1080"
   ]
  },
  {
   "cell_type": "code",
   "execution_count": 48,
   "metadata": {},
   "outputs": [
    {
     "name": "stdout",
     "output_type": "stream",
     "text": [
      "Dimensiones originales\n",
      "1080\n",
      "720\n"
     ]
    }
   ],
   "source": [
    "print('Dimensiones originales')\n",
    "for dim in dimensiones:\n",
    "    print(dim)"
   ]
  },
  {
   "cell_type": "code",
   "execution_count": 49,
   "metadata": {},
   "outputs": [
    {
     "name": "stdout",
     "output_type": "stream",
     "text": [
      "(1080, 1080)\n"
     ]
    }
   ],
   "source": [
    "dimensiones = (1080,1080)\n",
    "print(dimensiones)"
   ]
  },
  {
   "cell_type": "code",
   "execution_count": 50,
   "metadata": {},
   "outputs": [
    {
     "name": "stdout",
     "output_type": "stream",
     "text": [
      "1080\n",
      "1080\n"
     ]
    }
   ],
   "source": [
    "for d in dimensiones:\n",
    "    print(d)"
   ]
  },
  {
   "cell_type": "code",
   "execution_count": 51,
   "metadata": {},
   "outputs": [
    {
     "name": "stdout",
     "output_type": "stream",
     "text": [
      "Añadiendo ingredientes a la orden: crema de chocolate\n",
      "Añadiendo ingredientes a la orden: chispas\n",
      "Añadiendo ingredientes a la orden: relleno de crema\n",
      "Añadiendo ingredientes a la orden: nueces\n",
      "\n",
      " Tu cupcake está listo\n"
     ]
    }
   ],
   "source": [
    "## Cupcake decoración\n",
    "\n",
    "el_cliente_quiere = ['crema de chocolate', 'chispas', 'relleno de crema', 'nueces']\n",
    "\n",
    "for extra in el_cliente_quiere:\n",
    "    print(f'Añadiendo ingredientes a la orden: {extra}')\n",
    "\n",
    "print('\\n Tu cupcake está listo')"
   ]
  },
  {
   "cell_type": "code",
   "execution_count": 52,
   "metadata": {},
   "outputs": [
    {
     "name": "stdout",
     "output_type": "stream",
     "text": [
      "Añadiendo ingredientes a la orden: crema de chocolate\n",
      "Añadiendo ingredientes a la orden: chispas\n",
      "Añadiendo ingredientes a la orden: relleno de crema\n",
      "Lo sentimos, no tenemos nueces, puedes agregar almendras :)\n",
      "\n",
      " Tu cupcake está listo\n"
     ]
    }
   ],
   "source": [
    "# No hay un ingrediente disponible \n",
    "\n",
    "el_cliente_quiere = ['crema de chocolate', 'chispas', 'relleno de crema', 'nueces']\n",
    "\n",
    "for extra in el_cliente_quiere:\n",
    "    if extra == 'nueces':\n",
    "        print('Lo sentimos, no tenemos nueces, puedes agregar almendras :)')\n",
    "    else:\n",
    "        print(f'Añadiendo ingredientes a la orden: {extra}')\n",
    "print('\\n Tu cupcake está listo')"
   ]
  },
  {
   "cell_type": "code",
   "execution_count": 53,
   "metadata": {},
   "outputs": [
    {
     "name": "stdout",
     "output_type": "stream",
     "text": [
      "Añadiendo crema de chocolate.\n",
      "Añadiendo chispas.\n",
      "Añadiendo relleno de crema.\n",
      "Lo sentimos, no tenemos nueces\n",
      "\n",
      "Tu cupcake está listo\n"
     ]
    }
   ],
   "source": [
    "# ¿Cómo podemos saber que ingredientes si están disponibles?\n",
    "\n",
    "extras_disponibles = ['crema de chocolate', 'almendras', 'perlas', 'chispas', 'relleno de crema', 'ralladura de limon', 'canela']\n",
    "\n",
    "el_cliente_quiere = ['crema de chocolate', 'chispas', 'relleno de crema', 'nueces']\n",
    "\n",
    "for extra in el_cliente_quiere:\n",
    "    if extra in extras_disponibles:\n",
    "        print(f'Añadiendo {extra}.')\n",
    "    else: \n",
    "        print(f'Lo sentimos, no tenemos {extra}')\n",
    "\n",
    "print('\\nTu cupcake está listo')"
   ]
  },
  {
   "cell_type": "code",
   "execution_count": null,
   "metadata": {},
   "outputs": [],
   "source": []
  }
 ],
 "metadata": {
  "interpreter": {
   "hash": "502cd6c3b6c9e666d195e1caff9d64ea12bf644e547a4c8fae84812082c54b6f"
  },
  "kernelspec": {
   "display_name": "Python 3.9.5 64-bit",
   "language": "python",
   "name": "python3"
  },
  "language_info": {
   "codemirror_mode": {
    "name": "ipython",
    "version": 3
   },
   "file_extension": ".py",
   "mimetype": "text/x-python",
   "name": "python",
   "nbconvert_exporter": "python",
   "pygments_lexer": "ipython3",
   "version": "3.9.5"
  },
  "orig_nbformat": 4
 },
 "nbformat": 4,
 "nbformat_minor": 2
}
